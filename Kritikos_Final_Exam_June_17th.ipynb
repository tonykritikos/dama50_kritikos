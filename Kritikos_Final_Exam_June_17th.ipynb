{
 "cells": [
  {
   "cell_type": "code",
   "execution_count": 17,
   "metadata": {},
   "outputs": [],
   "source": [
    "#Problem 1"
   ]
  },
  {
   "cell_type": "code",
   "execution_count": 18,
   "metadata": {},
   "outputs": [
    {
     "data": {
      "text/html": [
       "<html><script type=\"math/tex; mode=display\">\\newcommand{\\Bold}[1]{\\mathbf{#1}}\\left(\\begin{array}{rrrr}\n",
       "1 & 2 & 1 & 2 \\\\\n",
       "2 & 3 & 0 & 1 \\\\\n",
       "0 & 1 & 0 & 1\n",
       "\\end{array}\\right)</script></html>"
      ],
      "text/latex": [
       "$$\\newcommand{\\Bold}[1]{\\mathbf{#1}}\\left(\\begin{array}{rrrr}\n",
       "1 & 2 & 1 & 2 \\\\\n",
       "2 & 3 & 0 & 1 \\\\\n",
       "0 & 1 & 0 & 1\n",
       "\\end{array}\\right)$$"
      ],
      "text/plain": [
       "[1 2 1 2]\n",
       "[2 3 0 1]\n",
       "[0 1 0 1]"
      ]
     },
     "execution_count": 18,
     "metadata": {},
     "output_type": "execute_result"
    }
   ],
   "source": [
    "%display latex\n",
    "A = matrix(SR, [[1,2,1,2],[2,3,0,1],[0,1,0,1]]);A"
   ]
  },
  {
   "cell_type": "code",
   "execution_count": 19,
   "metadata": {},
   "outputs": [],
   "source": [
    "U,S,V=(A.change_ring(RDF)).SVD()"
   ]
  },
  {
   "cell_type": "code",
   "execution_count": 20,
   "metadata": {},
   "outputs": [
    {
     "data": {
      "text/html": [
       "<html><script type=\"math/tex; mode=display\">\\newcommand{\\Bold}[1]{\\mathbf{#1}}\\left(\\begin{array}{rrr}\n",
       "-0.6185325122402214 & -0.6666666666666669 & -0.4159003328411208 \\\\\n",
       "-0.74436620949685 & 0.6666666666666666 & 0.03839924107123499 \\\\\n",
       "-0.2516673945132572 & -0.33333333333333226 & 0.9085991478247148\n",
       "\\end{array}\\right)</script></html>"
      ],
      "text/latex": [
       "$$\\newcommand{\\Bold}[1]{\\mathbf{#1}}\\left(\\begin{array}{rrr}\n",
       "-0.6185325122402214 & -0.6666666666666669 & -0.4159003328411208 \\\\\n",
       "-0.74436620949685 & 0.6666666666666666 & 0.03839924107123499 \\\\\n",
       "-0.2516673945132572 & -0.33333333333333226 & 0.9085991478247148\n",
       "\\end{array}\\right)$$"
      ],
      "text/plain": [
       "[ -0.6185325122402214  -0.6666666666666669  -0.4159003328411208]\n",
       "[   -0.74436620949685   0.6666666666666666  0.03839924107123499]\n",
       "[ -0.2516673945132572 -0.33333333333333226   0.9085991478247148]"
      ]
     },
     "execution_count": 20,
     "metadata": {},
     "output_type": "execute_result"
    }
   ],
   "source": [
    "U"
   ]
  },
  {
   "cell_type": "code",
   "execution_count": 21,
   "metadata": {},
   "outputs": [
    {
     "data": {
      "text/html": [
       "<html><script type=\"math/tex; mode=display\">\\newcommand{\\Bold}[1]{\\mathbf{#1}}\\left(\\begin{array}{rrrr}\n",
       "4.864350294714661 & 0.0 & 0.0 & 0.0 \\\\\n",
       "0.0 & 1.414213562373095 & 0.0 & 0.0 \\\\\n",
       "0.0 & 0.0 & 0.5814604116441627 & 0.0\n",
       "\\end{array}\\right)</script></html>"
      ],
      "text/latex": [
       "$$\\newcommand{\\Bold}[1]{\\mathbf{#1}}\\left(\\begin{array}{rrrr}\n",
       "4.864350294714661 & 0.0 & 0.0 & 0.0 \\\\\n",
       "0.0 & 1.414213562373095 & 0.0 & 0.0 \\\\\n",
       "0.0 & 0.0 & 0.5814604116441627 & 0.0\n",
       "\\end{array}\\right)$$"
      ],
      "text/plain": [
       "[ 4.864350294714661                0.0                0.0                0.0]\n",
       "[               0.0  1.414213562373095                0.0                0.0]\n",
       "[               0.0                0.0 0.5814604116441627                0.0]"
      ]
     },
     "execution_count": 21,
     "metadata": {},
     "output_type": "execute_result"
    }
   ],
   "source": [
    "S"
   ]
  },
  {
   "cell_type": "code",
   "execution_count": 22,
   "metadata": {},
   "outputs": [
    {
     "data": {
      "text/html": [
       "<html><script type=\"math/tex; mode=display\">\\newcommand{\\Bold}[1]{\\mathbf{#1}}\\left(\\begin{array}{rrrr}\n",
       "-0.43320583501635573 & 0.4714045207910296 & -0.583189919567855 & -0.4999999999999998 \\\\\n",
       "-0.7651239779191459 & 0.2357022603955169 & 0.3301965215710583 & 0.49999999999999983 \\\\\n",
       "-0.12715624384869756 & -0.4714045207910337 & -0.7152685281962754 & 0.5000000000000003 \\\\\n",
       "-0.45907438675148743 & -0.7071067811865469 & 0.19811791294263706 & -0.49999999999999983\n",
       "\\end{array}\\right)</script></html>"
      ],
      "text/latex": [
       "$$\\newcommand{\\Bold}[1]{\\mathbf{#1}}\\left(\\begin{array}{rrrr}\n",
       "-0.43320583501635573 & 0.4714045207910296 & -0.583189919567855 & -0.4999999999999998 \\\\\n",
       "-0.7651239779191459 & 0.2357022603955169 & 0.3301965215710583 & 0.49999999999999983 \\\\\n",
       "-0.12715624384869756 & -0.4714045207910337 & -0.7152685281962754 & 0.5000000000000003 \\\\\n",
       "-0.45907438675148743 & -0.7071067811865469 & 0.19811791294263706 & -0.49999999999999983\n",
       "\\end{array}\\right)$$"
      ],
      "text/plain": [
       "[-0.43320583501635573   0.4714045207910296   -0.583189919567855  -0.4999999999999998]\n",
       "[ -0.7651239779191459   0.2357022603955169   0.3301965215710583  0.49999999999999983]\n",
       "[-0.12715624384869756  -0.4714045207910337  -0.7152685281962754   0.5000000000000003]\n",
       "[-0.45907438675148743  -0.7071067811865469  0.19811791294263706 -0.49999999999999983]"
      ]
     },
     "execution_count": 22,
     "metadata": {},
     "output_type": "execute_result"
    }
   ],
   "source": [
    "V"
   ]
  },
  {
   "cell_type": "code",
   "execution_count": 23,
   "metadata": {},
   "outputs": [
    {
     "data": {
      "text/html": [
       "<html><script type=\"math/tex; mode=display\">\\newcommand{\\Bold}[1]{\\mathbf{#1}}\\left(\\begin{array}{rrrr}\n",
       "1 & 0 & 0 & -1 \\\\\n",
       "0 & 1 & 0 & 1 \\\\\n",
       "0 & 0 & 1 & 1\n",
       "\\end{array}\\right)</script></html>"
      ],
      "text/latex": [
       "$$\\newcommand{\\Bold}[1]{\\mathbf{#1}}\\left(\\begin{array}{rrrr}\n",
       "1 & 0 & 0 & -1 \\\\\n",
       "0 & 1 & 0 & 1 \\\\\n",
       "0 & 0 & 1 & 1\n",
       "\\end{array}\\right)$$"
      ],
      "text/plain": [
       "[ 1  0  0 -1]\n",
       "[ 0  1  0  1]\n",
       "[ 0  0  1  1]"
      ]
     },
     "execution_count": 23,
     "metadata": {},
     "output_type": "execute_result"
    }
   ],
   "source": [
    "B = A.rref(); B"
   ]
  },
  {
   "cell_type": "code",
   "execution_count": 24,
   "metadata": {},
   "outputs": [],
   "source": [
    "U1,S1,V1=(B.change_ring(RDF)).SVD()"
   ]
  },
  {
   "cell_type": "code",
   "execution_count": 25,
   "metadata": {},
   "outputs": [
    {
     "data": {
      "text/html": [
       "<html><script type=\"math/tex; mode=display\">\\newcommand{\\Bold}[1]{\\mathbf{#1}}\\left(\\begin{array}{rrr}\n",
       "0.5773502691896258 & -0.816496580927726 & -5.551115123125783 \\times 10^{-17} \\\\\n",
       "-0.5773502691896256 & -0.408248290463863 & -0.7071067811865475 \\\\\n",
       "-0.5773502691896256 & -0.40824829046386313 & 0.7071067811865475\n",
       "\\end{array}\\right)</script></html>"
      ],
      "text/latex": [
       "$$\\newcommand{\\Bold}[1]{\\mathbf{#1}}\\left(\\begin{array}{rrr}\n",
       "0.5773502691896258 & -0.816496580927726 & -5.551115123125783 \\times 10^{-17} \\\\\n",
       "-0.5773502691896256 & -0.408248290463863 & -0.7071067811865475 \\\\\n",
       "-0.5773502691896256 & -0.40824829046386313 & 0.7071067811865475\n",
       "\\end{array}\\right)$$"
      ],
      "text/plain": [
       "[    0.5773502691896258     -0.816496580927726 -5.551115123125783e-17]\n",
       "[   -0.5773502691896256     -0.408248290463863    -0.7071067811865475]\n",
       "[   -0.5773502691896256   -0.40824829046386313     0.7071067811865475]"
      ]
     },
     "execution_count": 25,
     "metadata": {},
     "output_type": "execute_result"
    }
   ],
   "source": [
    "U1"
   ]
  },
  {
   "cell_type": "code",
   "execution_count": 26,
   "metadata": {},
   "outputs": [
    {
     "data": {
      "text/html": [
       "<html><script type=\"math/tex; mode=display\">\\newcommand{\\Bold}[1]{\\mathbf{#1}}\\left(\\begin{array}{rrrr}\n",
       "2.0 & 0.0 & 0.0 & 0.0 \\\\\n",
       "0.0 & 1.0 & 0.0 & 0.0 \\\\\n",
       "0.0 & 0.0 & 0.9999999999999999 & 0.0\n",
       "\\end{array}\\right)</script></html>"
      ],
      "text/latex": [
       "$$\\newcommand{\\Bold}[1]{\\mathbf{#1}}\\left(\\begin{array}{rrrr}\n",
       "2.0 & 0.0 & 0.0 & 0.0 \\\\\n",
       "0.0 & 1.0 & 0.0 & 0.0 \\\\\n",
       "0.0 & 0.0 & 0.9999999999999999 & 0.0\n",
       "\\end{array}\\right)$$"
      ],
      "text/plain": [
       "[               2.0                0.0                0.0                0.0]\n",
       "[               0.0                1.0                0.0                0.0]\n",
       "[               0.0                0.0 0.9999999999999999                0.0]"
      ]
     },
     "execution_count": 26,
     "metadata": {},
     "output_type": "execute_result"
    }
   ],
   "source": [
    "S1"
   ]
  },
  {
   "cell_type": "code",
   "execution_count": 27,
   "metadata": {},
   "outputs": [
    {
     "data": {
      "text/html": [
       "<html><script type=\"math/tex; mode=display\">\\newcommand{\\Bold}[1]{\\mathbf{#1}}\\left(\\begin{array}{rrrr}\n",
       "0.2886751345948128 & -0.8164965809277258 & 4.945504783114436 \\times 10^{-17} & 0.5 \\\\\n",
       "-0.2886751345948128 & -0.4082482904638631 & -0.7071067811865475 & -0.5 \\\\\n",
       "-0.2886751345948128 & -0.4082482904638631 & 0.7071067811865475 & -0.5 \\\\\n",
       "-0.8660254037844386 & -2.0603778157375675 \\times 10^{-16} & 4.945504783114437 \\times 10^{-17} & 0.5\n",
       "\\end{array}\\right)</script></html>"
      ],
      "text/latex": [
       "$$\\newcommand{\\Bold}[1]{\\mathbf{#1}}\\left(\\begin{array}{rrrr}\n",
       "0.2886751345948128 & -0.8164965809277258 & 4.945504783114436 \\times 10^{-17} & 0.5 \\\\\n",
       "-0.2886751345948128 & -0.4082482904638631 & -0.7071067811865475 & -0.5 \\\\\n",
       "-0.2886751345948128 & -0.4082482904638631 & 0.7071067811865475 & -0.5 \\\\\n",
       "-0.8660254037844386 & -2.0603778157375675 \\times 10^{-16} & 4.945504783114437 \\times 10^{-17} & 0.5\n",
       "\\end{array}\\right)$$"
      ],
      "text/plain": [
       "[     0.2886751345948128     -0.8164965809277258   4.945504783114436e-17                     0.5]\n",
       "[    -0.2886751345948128     -0.4082482904638631     -0.7071067811865475                    -0.5]\n",
       "[    -0.2886751345948128     -0.4082482904638631      0.7071067811865475                    -0.5]\n",
       "[    -0.8660254037844386 -2.0603778157375675e-16   4.945504783114437e-17                     0.5]"
      ]
     },
     "execution_count": 27,
     "metadata": {},
     "output_type": "execute_result"
    }
   ],
   "source": [
    "V1"
   ]
  },
  {
   "cell_type": "code",
   "execution_count": 28,
   "metadata": {},
   "outputs": [
    {
     "data": {
      "text/html": [
       "<html><script type=\"math/tex; mode=display\">\\newcommand{\\Bold}[1]{\\mathbf{#1}}5.0990195135927845</script></html>"
      ],
      "text/latex": [
       "$$\\newcommand{\\Bold}[1]{\\mathbf{#1}}5.0990195135927845$$"
      ],
      "text/plain": [
       "5.0990195135927845"
      ]
     },
     "execution_count": 28,
     "metadata": {},
     "output_type": "execute_result"
    }
   ],
   "source": [
    "A.norm('frob')"
   ]
  },
  {
   "cell_type": "code",
   "execution_count": 29,
   "metadata": {},
   "outputs": [
    {
     "data": {
      "text/html": [
       "<html><script type=\"math/tex; mode=display\">\\newcommand{\\Bold}[1]{\\mathbf{#1}}2.449489742783178</script></html>"
      ],
      "text/latex": [
       "$$\\newcommand{\\Bold}[1]{\\mathbf{#1}}2.449489742783178$$"
      ],
      "text/plain": [
       "2.449489742783178"
      ]
     },
     "execution_count": 29,
     "metadata": {},
     "output_type": "execute_result"
    }
   ],
   "source": [
    "B.norm('frob')"
   ]
  },
  {
   "cell_type": "code",
   "execution_count": 30,
   "metadata": {},
   "outputs": [],
   "source": [
    "#Problem 2"
   ]
  },
  {
   "cell_type": "code",
   "execution_count": 31,
   "metadata": {},
   "outputs": [],
   "source": [
    "x,y=var('x,y')\n",
    "f(x,y) = 100*((y - x^2)^2) + 2*((2-x-y)^2)"
   ]
  },
  {
   "cell_type": "code",
   "execution_count": 32,
   "metadata": {},
   "outputs": [],
   "source": [
    "gradf=f(x,y).gradient([x,y])"
   ]
  },
  {
   "cell_type": "code",
   "execution_count": 33,
   "metadata": {},
   "outputs": [
    {
     "data": {
      "text/html": [
       "<html><script type=\"math/tex; mode=display\">\\newcommand{\\Bold}[1]{\\mathbf{#1}}\\left(400 \\, {\\left(x^{2} - y\\right)} x + 4 \\, x + 4 \\, y - 8,\\,-200 \\, x^{2} + 4 \\, x + 204 \\, y - 8\\right)</script></html>"
      ],
      "text/latex": [
       "$$\\newcommand{\\Bold}[1]{\\mathbf{#1}}\\left(400 \\, {\\left(x^{2} - y\\right)} x + 4 \\, x + 4 \\, y - 8,\\,-200 \\, x^{2} + 4 \\, x + 204 \\, y - 8\\right)$$"
      ],
      "text/plain": [
       "(400*(x^2 - y)*x + 4*x + 4*y - 8, -200*x^2 + 4*x + 204*y - 8)"
      ]
     },
     "execution_count": 33,
     "metadata": {},
     "output_type": "execute_result"
    }
   ],
   "source": [
    "gradf"
   ]
  },
  {
   "cell_type": "code",
   "execution_count": 34,
   "metadata": {},
   "outputs": [
    {
     "data": {
      "text/html": [
       "<html><script type=\"math/tex; mode=display\">\\newcommand{\\Bold}[1]{\\mathbf{#1}}\\left[400 \\, {\\left(x^{2} - y\\right)} x + 4 \\, x + 4 \\, y - 8 = 0, -200 \\, x^{2} + 4 \\, x + 204 \\, y - 8 = 0\\right]</script></html>"
      ],
      "text/latex": [
       "$$\\newcommand{\\Bold}[1]{\\mathbf{#1}}\\left[400 \\, {\\left(x^{2} - y\\right)} x + 4 \\, x + 4 \\, y - 8 = 0, -200 \\, x^{2} + 4 \\, x + 204 \\, y - 8 = 0\\right]$$"
      ],
      "text/plain": [
       "[400*(x^2 - y)*x + 4*x + 4*y - 8 == 0, -200*x^2 + 4*x + 204*y - 8 == 0]"
      ]
     },
     "execution_count": 34,
     "metadata": {},
     "output_type": "execute_result"
    }
   ],
   "source": [
    "eqs=[ee==0 for ee in gradf];eqs"
   ]
  },
  {
   "cell_type": "code",
   "execution_count": 35,
   "metadata": {},
   "outputs": [
    {
     "data": {
      "text/html": [
       "<html><script type=\"math/tex; mode=display\">\\newcommand{\\Bold}[1]{\\mathbf{#1}}\\left[\\left[x = 1, y = 1\\right], \\left[x = \\left(-2\\right), y = 4\\right], \\left[x = \\left(-\\frac{1}{2}\\right), y = \\left(\\frac{5}{17}\\right)\\right]\\right]</script></html>"
      ],
      "text/latex": [
       "$$\\newcommand{\\Bold}[1]{\\mathbf{#1}}\\left[\\left[x = 1, y = 1\\right], \\left[x = \\left(-2\\right), y = 4\\right], \\left[x = \\left(-\\frac{1}{2}\\right), y = \\left(\\frac{5}{17}\\right)\\right]\\right]$$"
      ],
      "text/plain": [
       "[[x == 1, y == 1], [x == -2, y == 4], [x == (-1/2), y == (5/17)]]"
      ]
     },
     "execution_count": 35,
     "metadata": {},
     "output_type": "execute_result"
    }
   ],
   "source": [
    "sols =solve(eqs,[x,y]);sols"
   ]
  },
  {
   "cell_type": "code",
   "execution_count": 36,
   "metadata": {},
   "outputs": [
    {
     "data": {
      "text/html": [
       "<html><script type=\"math/tex; mode=display\">\\newcommand{\\Bold}[1]{\\mathbf{#1}}\\left(\\begin{array}{rr}\n",
       "\\left( x, y \\right) \\ {\\mapsto} \\ 1200 \\, x^{2} - 400 \\, y + 4 & \\left( x, y \\right) \\ {\\mapsto} \\ -400 \\, x + 4 \\\\\n",
       "\\left( x, y \\right) \\ {\\mapsto} \\ -400 \\, x + 4 & \\left( x, y \\right) \\ {\\mapsto} \\ 204\n",
       "\\end{array}\\right)</script></html>"
      ],
      "text/latex": [
       "$$\\newcommand{\\Bold}[1]{\\mathbf{#1}}\\left(\\begin{array}{rr}\n",
       "\\left( x, y \\right) \\ {\\mapsto} \\ 1200 \\, x^{2} - 400 \\, y + 4 & \\left( x, y \\right) \\ {\\mapsto} \\ -400 \\, x + 4 \\\\\n",
       "\\left( x, y \\right) \\ {\\mapsto} \\ -400 \\, x + 4 & \\left( x, y \\right) \\ {\\mapsto} \\ 204\n",
       "\\end{array}\\right)$$"
      ],
      "text/plain": [
       "[(x, y) |--> 1200*x^2 - 400*y + 4           (x, y) |--> -400*x + 4]\n",
       "[          (x, y) |--> -400*x + 4                  (x, y) |--> 204]"
      ]
     },
     "execution_count": 36,
     "metadata": {},
     "output_type": "execute_result"
    }
   ],
   "source": [
    "H = f.hessian();H"
   ]
  },
  {
   "cell_type": "code",
   "execution_count": 37,
   "metadata": {},
   "outputs": [
    {
     "data": {
      "text/html": [
       "<html><script type=\"math/tex; mode=display\">\\newcommand{\\Bold}[1]{\\mathbf{#1}}\\left[\\left[-12 \\, \\sqrt{1714} + 504, 12 \\, \\sqrt{1714} + 504\\right], \\left[-12 \\, \\sqrt{20114} + 1704, 12 \\, \\sqrt{20114} + 1704\\right], \\left[-\\frac{6}{17} \\, \\sqrt{334709} + \\frac{3318}{17}, \\frac{6}{17} \\, \\sqrt{334709} + \\frac{3318}{17}\\right]\\right]</script></html>"
      ],
      "text/latex": [
       "$$\\newcommand{\\Bold}[1]{\\mathbf{#1}}\\left[\\left[-12 \\, \\sqrt{1714} + 504, 12 \\, \\sqrt{1714} + 504\\right], \\left[-12 \\, \\sqrt{20114} + 1704, 12 \\, \\sqrt{20114} + 1704\\right], \\left[-\\frac{6}{17} \\, \\sqrt{334709} + \\frac{3318}{17}, \\frac{6}{17} \\, \\sqrt{334709} + \\frac{3318}{17}\\right]\\right]$$"
      ],
      "text/plain": [
       "[[-12*sqrt(1714) + 504, 12*sqrt(1714) + 504],\n",
       " [-12*sqrt(20114) + 1704, 12*sqrt(20114) + 1704],\n",
       " [-6/17*sqrt(334709) + 3318/17, 6/17*sqrt(334709) + 3318/17]]"
      ]
     },
     "execution_count": 37,
     "metadata": {},
     "output_type": "execute_result"
    }
   ],
   "source": [
    "sta=[list(H(x,y).substitute(xx).eigenvalues()) for xx in sols];sta"
   ]
  },
  {
   "cell_type": "code",
   "execution_count": 38,
   "metadata": {},
   "outputs": [
    {
     "data": {
      "text/html": [
       "<html><script type=\"math/tex; mode=display\">\\newcommand{\\Bold}[1]{\\mathbf{#1}}\\left[\\left[7.19420293237317, 1000.80579706763\\right], \\left[2.11398736578121, 3405.88601263422\\right], \\left[-9.01426052187233, 399.367201698343\\right]\\right]</script></html>"
      ],
      "text/latex": [
       "$$\\newcommand{\\Bold}[1]{\\mathbf{#1}}\\left[\\left[7.19420293237317, 1000.80579706763\\right], \\left[2.11398736578121, 3405.88601263422\\right], \\left[-9.01426052187233, 399.367201698343\\right]\\right]$$"
      ],
      "text/plain": [
       "[[7.19420293237317, 1000.80579706763],\n",
       " [2.11398736578121, 3405.88601263422],\n",
       " [-9.01426052187233, 399.367201698343]]"
      ]
     },
     "execution_count": 38,
     "metadata": {},
     "output_type": "execute_result"
    }
   ],
   "source": [
    "[[n(xi[0]), n(xi[1])] for xi in sta]"
   ]
  },
  {
   "cell_type": "code",
   "execution_count": 39,
   "metadata": {},
   "outputs": [],
   "source": [
    "#two minimums and a saddle point"
   ]
  },
  {
   "cell_type": "code",
   "execution_count": null,
   "metadata": {},
   "outputs": [],
   "source": [
    "rsols=[u for u in sols if imag(n(x.subs(u)))==0]\n",
    "contour_plot(f(x,y), (x,-10,10), (y,-10,10), fill=False, plot_points=200, contours=[-1,0,0.5,1,1.5,1.6,1.7,2],labels=True)+\\\n",
    "point((x.subs(rsols[0]), y.subs(rsols[0])),pointsize=80,color=\"red\",zorder=1)+\\\n",
    "point((x.subs(rsols[1]), y.subs(rsols[1])),pointsize=80,color=\"green\",zorder=1)+\\\n",
    "point((x.subs(rsols[2]), y.subs(rsols[2])),pointsize=80,color=\"blue\",zorder=1)"
   ]
  },
  {
   "cell_type": "code",
   "execution_count": null,
   "metadata": {},
   "outputs": [],
   "source": [
    "#couldn't plot it because sagemath kept crashing"
   ]
  }
 ],
 "metadata": {
  "kernelspec": {
   "display_name": "SageMath 9.3",
   "language": "sage",
   "name": "sagemath"
  },
  "language_info": {
   "codemirror_mode": {
    "name": "ipython",
    "version": 3
   },
   "file_extension": ".py",
   "mimetype": "text/x-python",
   "name": "python",
   "nbconvert_exporter": "python",
   "pygments_lexer": "ipython3",
   "version": "3.7.10"
  }
 },
 "nbformat": 4,
 "nbformat_minor": 4
}
