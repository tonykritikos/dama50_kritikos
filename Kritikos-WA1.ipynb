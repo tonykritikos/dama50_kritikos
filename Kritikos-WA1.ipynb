{
 "cells": [
  {
   "cell_type": "code",
   "execution_count": 1,
   "metadata": {
    "collapsed": false
   },
   "outputs": [
    {
     "data": {
      "text/html": [
       "<html>\\(\\displaystyle \\left(\\begin{array}{rrrr}\n",
       "4 & 4 & 4 & 4 \\\\\n",
       "4 & 4 & 4 & 4 \\\\\n",
       "4 & 4 & 4 & 4\n",
       "\\end{array}\\right)\\)</html>"
      ],
      "text/latex": [
       "$\\displaystyle \\left(\\begin{array}{rrrr}\n",
       "4 & 4 & 4 & 4 \\\\\n",
       "4 & 4 & 4 & 4 \\\\\n",
       "4 & 4 & 4 & 4\n",
       "\\end{array}\\right)$"
      ],
      "text/plain": [
       "[4 4 4 4]\n",
       "[4 4 4 4]\n",
       "[4 4 4 4]"
      ]
     },
     "execution_count": 1,
     "metadata": {
     },
     "output_type": "execute_result"
    }
   ],
   "source": [
    "A = matrix([[4,4,4,4], [4,4,4,4], [4,4,4,4]]); show(A)"
   ]
  },
  {
   "cell_type": "code",
   "execution_count": 2,
   "metadata": {
    "collapsed": false,
    "scrolled": true
   },
   "outputs": [
    {
     "data": {
      "text/plain": [
       "1"
      ]
     },
     "execution_count": 2,
     "metadata": {
     },
     "output_type": "execute_result"
    }
   ],
   "source": [
    "A.rank()"
   ]
  },
  {
   "cell_type": "code",
   "execution_count": 3,
   "metadata": {
    "collapsed": false
   },
   "outputs": [
    {
     "data": {
      "text/plain": [
       "[1 1 1 1]\n",
       "[0 0 0 0]\n",
       "[0 0 0 0]"
      ]
     },
     "execution_count": 3,
     "metadata": {
     },
     "output_type": "execute_result"
    }
   ],
   "source": [
    "A.rref()"
   ]
  },
  {
   "cell_type": "code",
   "execution_count": 4,
   "metadata": {
    "collapsed": false
   },
   "outputs": [
    {
     "data": {
      "text/html": [
       "<html>\\(\\displaystyle \\left(\\begin{array}{rrrr}\n",
       "1 & 2 & 3 & 4 \\\\\n",
       "2 & 3 & 4 & 5 \\\\\n",
       "3 & 4 & 5 & 6\n",
       "\\end{array}\\right)\\)</html>"
      ],
      "text/latex": [
       "$\\displaystyle \\left(\\begin{array}{rrrr}\n",
       "1 & 2 & 3 & 4 \\\\\n",
       "2 & 3 & 4 & 5 \\\\\n",
       "3 & 4 & 5 & 6\n",
       "\\end{array}\\right)$"
      ],
      "text/plain": [
       "[1 2 3 4]\n",
       "[2 3 4 5]\n",
       "[3 4 5 6]"
      ]
     },
     "execution_count": 4,
     "metadata": {
     },
     "output_type": "execute_result"
    }
   ],
   "source": [
    "B = matrix([[1, 2, 3, 4], [2, 3, 4, 5], [3, 4, 5, 6]]);show(B)"
   ]
  },
  {
   "cell_type": "code",
   "execution_count": 5,
   "metadata": {
    "collapsed": false,
    "scrolled": true
   },
   "outputs": [
    {
     "data": {
      "text/plain": [
       "2"
      ]
     },
     "execution_count": 5,
     "metadata": {
     },
     "output_type": "execute_result"
    }
   ],
   "source": [
    "B.rank()"
   ]
  },
  {
   "cell_type": "code",
   "execution_count": 0,
   "metadata": {
    "collapsed": false
   },
   "outputs": [
   ],
   "source": [
    "B.rref()"
   ]
  },
  {
   "cell_type": "code",
   "execution_count": 0,
   "metadata": {
    "collapsed": false
   },
   "outputs": [
   ],
   "source": [
    "C = matrix([[(-1)^1, (-1)^2, (-1)^3, (-1)^4], [(-1)^1, (-1)^2, (-1)^3, (-1)^4], [(-1)^1, (-1)^2, (-1)^3, (-1)^4]]);show(C)"
   ]
  },
  {
   "cell_type": "code",
   "execution_count": 0,
   "metadata": {
    "collapsed": false
   },
   "outputs": [
   ],
   "source": [
    "C.rank()"
   ]
  },
  {
   "cell_type": "code",
   "execution_count": 9,
   "metadata": {
    "collapsed": false
   },
   "outputs": [
    {
     "data": {
      "text/plain": [
       "[ 1 -1  1 -1]\n",
       "[ 0  0  0  0]\n",
       "[ 0  0  0  0]"
      ]
     },
     "execution_count": 9,
     "metadata": {
     },
     "output_type": "execute_result"
    }
   ],
   "source": [
    "C.rref()"
   ]
  },
  {
   "cell_type": "code",
   "execution_count": 7,
   "metadata": {
    "collapsed": false
   },
   "outputs": [
    {
     "data": {
      "text/plain": [
       "[[1.00000000000000, 8.00000000000000, -4.88303690000000, -0.139620390000000],\n",
       " [1.00000000000000, 8.00000000000000, 3.54970350000000, -1.19371290000000]]"
      ]
     },
     "execution_count": 7,
     "metadata": {
     },
     "output_type": "execute_result"
    }
   ],
   "source": [
    "var('p q r s');\n",
    "a1 = p + 2*q + 3*r + s == 1;\n",
    "a2 = 2*p + q + 8*r + 2*s == 2;\n",
    "a3 = p + 6*q -3*r + 5*s == -2;\n",
    "a4 = 2*p - q + r + s == 0;\n",
    "solns = solve([a1,a2,a3,a4],p,q,r,s, solution_dict=True);\n",
    "[[t[p].n(30), t[q].n(30), t[r].n(30), t[s].n(30)] for t in solns]\n",
    "[[1.0000000, 8.0000000, -4.8830369, -0.13962039],\n",
    " [1.0000000, 8.0000000, 3.5497035, -1.1937129]]"
   ]
  },
  {
   "cell_type": "code",
   "execution_count": 1,
   "metadata": {
    "collapsed": false
   },
   "outputs": [
    {
     "data": {
      "text/html": [
       "<html>\\(\\displaystyle \\left(\\begin{array}{rrrr}\n",
       "1 & 2 & 3 & 1 \\\\\n",
       "2 & 1 & 8 & 2 \\\\\n",
       "1 & 6 & -3 & 5 \\\\\n",
       "2 & -1 & 1 & -1\n",
       "\\end{array}\\right)\\)</html>"
      ],
      "text/latex": [
       "$\\displaystyle \\left(\\begin{array}{rrrr}\n",
       "1 & 2 & 3 & 1 \\\\\n",
       "2 & 1 & 8 & 2 \\\\\n",
       "1 & 6 & -3 & 5 \\\\\n",
       "2 & -1 & 1 & -1\n",
       "\\end{array}\\right)$"
      ],
      "text/plain": [
       "[ 1  2  3  1]\n",
       "[ 2  1  8  2]\n",
       "[ 1  6 -3  5]\n",
       "[ 2 -1  1 -1]"
      ]
     },
     "execution_count": 1,
     "metadata": {
     },
     "output_type": "execute_result"
    }
   ],
   "source": [
    "K = matrix([[1,2,3,1],[2,1,8,2],[1,6,-3,5],[2,-1,1,-1]]); show(K)"
   ]
  },
  {
   "cell_type": "code",
   "execution_count": 2,
   "metadata": {
    "collapsed": false
   },
   "outputs": [
    {
     "data": {
      "text/plain": [
       "[ -6/65   1/65   7/65  31/65]\n",
       "[ 49/65 -19/65  -3/65  -4/65]\n",
       "[17/130   4/65 -9/130  -6/65]\n",
       "[-21/26   5/13   5/26  -1/13]"
      ]
     },
     "execution_count": 2,
     "metadata": {
     },
     "output_type": "execute_result"
    }
   ],
   "source": [
    "K.inverse()"
   ]
  },
  {
   "cell_type": "code",
   "execution_count": 3,
   "metadata": {
    "collapsed": false
   },
   "outputs": [
    {
     "data": {
      "text/plain": [
       "[1 0 0 0]\n",
       "[0 1 0 0]\n",
       "[0 0 1 0]\n",
       "[0 0 0 1]"
      ]
     },
     "execution_count": 3,
     "metadata": {
     },
     "output_type": "execute_result"
    }
   ],
   "source": [
    "K.rref()"
   ]
  },
  {
   "cell_type": "code",
   "execution_count": 3,
   "metadata": {
    "collapsed": false
   },
   "outputs": [
    {
     "data": {
      "text/html": [
       "<html>\\(\\displaystyle \\left(\\begin{array}{rrrrrr}\n",
       "0 & 1 & 0 & 0 & 1 & 0 \\\\\n",
       "0 & 0 & 0 & 1 & 1 & 0 \\\\\n",
       "0 & 1 & 0 & 0 & 0 & 1\n",
       "\\end{array}\\right)\\)</html>"
      ],
      "text/latex": [
       "$\\displaystyle \\left(\\begin{array}{rrrrrr}\n",
       "0 & 1 & 0 & 0 & 1 & 0 \\\\\n",
       "0 & 0 & 0 & 1 & 1 & 0 \\\\\n",
       "0 & 1 & 0 & 0 & 0 & 1\n",
       "\\end{array}\\right)$"
      ],
      "text/plain": [
       "[0 1 0 0 1 0]\n",
       "[0 0 0 1 1 0]\n",
       "[0 1 0 0 0 1]"
      ]
     },
     "execution_count": 3,
     "metadata": {
     },
     "output_type": "execute_result"
    }
   ],
   "source": [
    "G = matrix([[0,1,0,0,1,0],[0,0,0,1,1,0],[0,1,0,0,0,1]]);show(G)"
   ]
  },
  {
   "cell_type": "code",
   "execution_count": 0,
   "metadata": {
    "collapsed": false
   },
   "outputs": [
   ],
   "source": [
   ]
  },
  {
   "cell_type": "code",
   "execution_count": 5,
   "metadata": {
    "collapsed": false
   },
   "outputs": [
    {
     "data": {
      "text/html": [
       "<html>\\(\\displaystyle \\left(\\begin{array}{r}\n",
       "2 \\\\\n",
       "-1 \\\\\n",
       "1\n",
       "\\end{array}\\right)\\)</html>"
      ],
      "text/latex": [
       "$\\displaystyle \\left(\\begin{array}{r}\n",
       "2 \\\\\n",
       "-1 \\\\\n",
       "1\n",
       "\\end{array}\\right)$"
      ],
      "text/plain": [
       "[ 2]\n",
       "[-1]\n",
       "[ 1]"
      ]
     },
     "execution_count": 5,
     "metadata": {
     },
     "output_type": "execute_result"
    }
   ],
   "source": [
    "F = matrix([[2],[-1],[1]]); show(F)"
   ]
  },
  {
   "cell_type": "code",
   "execution_count": 7,
   "metadata": {
    "collapsed": false
   },
   "outputs": [
    {
     "data": {
      "text/html": [
       "<html>\\(\\displaystyle \\left(\\begin{array}{rrrrrrr}\n",
       "0 & 1 & 0 & 0 & 0 & 1 & 2 \\\\\n",
       "0 & 0 & 0 & 1 & 0 & 1 & -1 \\\\\n",
       "0 & 0 & 0 & 0 & 1 & -1 & 1\n",
       "\\end{array}\\right)\\)</html>"
      ],
      "text/latex": [
       "$\\displaystyle \\left(\\begin{array}{rrrrrrr}\n",
       "0 & 1 & 0 & 0 & 0 & 1 & 2 \\\\\n",
       "0 & 0 & 0 & 1 & 0 & 1 & -1 \\\\\n",
       "0 & 0 & 0 & 0 & 1 & -1 & 1\n",
       "\\end{array}\\right)$"
      ],
      "text/plain": [
       "[ 0  1  0  0  0  1  2]\n",
       "[ 0  0  0  1  0  1 -1]\n",
       "[ 0  0  0  0  1 -1  1]"
      ]
     },
     "execution_count": 7,
     "metadata": {
     },
     "output_type": "execute_result"
    }
   ],
   "source": [
    "show(G.echelon_form().augment(F))"
   ]
  },
  {
   "cell_type": "code",
   "execution_count": 0,
   "metadata": {
    "collapsed": false
   },
   "outputs": [
   ],
   "source": [
   ]
  }
 ],
 "metadata": {
  "kernelspec": {
   "display_name": "SageMath 9.7",
   "language": "sagemath",
   "metadata": {
    "cocalc": {
     "description": "Open-source mathematical software system",
     "priority": 10,
     "url": "https://www.sagemath.org/"
    }
   },
   "name": "sage-9.7",
   "resource_dir": "/ext/jupyter/kernels/sage-9.7"
  },
  "language_info": {
   "codemirror_mode": {
    "name": "ipython",
    "version": 3
   },
   "file_extension": ".py",
   "mimetype": "text/x-python",
   "name": "python",
   "nbconvert_exporter": "python",
   "pygments_lexer": "ipython3",
   "version": "3.10.5"
  }
 },
 "nbformat": 4,
 "nbformat_minor": 4
}