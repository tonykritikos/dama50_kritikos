{
 "cells": [
  {
   "cell_type": "code",
   "execution_count": 5,
   "metadata": {},
   "outputs": [
    {
     "data": {
      "text/plain": [
       "([1/2 - sqrt(3)/2, 1/2 + sqrt(3)/2], [1/2], [])"
      ]
     },
     "execution_count": 5,
     "metadata": {},
     "output_type": "execute_result"
    }
   ],
   "source": [
    "# 1\n",
    "from sympy import symbols, diff, solve\n",
    "\n",
    "x = symbols('x')\n",
    "f = x**4 - 2*x**3 + x - 2\n",
    "\n",
    "f_prime = diff(f, x)\n",
    "f_double_prime = diff(f_prime, x)\n",
    "\n",
    "critical_points = solve(f_prime, x)\n",
    "\n",
    "minimum_points = [point for point in critical_points if f_double_prime.subs(x, point) > 0 and f_prime.subs(x, point) != 0]\n",
    "maximum_points = [point for point in critical_points if f_double_prime.subs(x, point) < 0]\n",
    "saddle_points = [point for point in critical_points if f_double_prime.subs(x, point) > 0 and f_prime.subs(x, point) == 0]\n",
    "\n",
    "minimum_points, maximum_points, saddle_points"
   ]
  },
  {
   "cell_type": "code",
   "execution_count": 10,
   "metadata": {},
   "outputs": [
    {
     "data": {
      "text/plain": [
       "(False, False)"
      ]
     },
     "execution_count": 10,
     "metadata": {},
     "output_type": "execute_result"
    }
   ],
   "source": [
    "# 2\n",
    "from sympy import symbols, Matrix\n",
    "from sage.all import *\n",
    "\n",
    "x1, x2, x3 = symbols('x1 x2 x3')\n",
    "\n",
    "f1 = 2*x1*x2 - x1**2 - x2**2\n",
    "hessian_f1 = Matrix([[f1.diff(x1, 2), f1.diff(x1, x2)], [f1.diff(x2, x1), f1.diff(x2, 2)]])\n",
    "is_convex_f1 = all(eigenvalue >= 0 for eigenvalue in hessian_f1.eigenvalues())\n",
    "\n",
    "f2 = 4*x1**2 + 3*x2**2 + 5*x3**2 + 6*x1*x2 + x1*x3 - 3*x1 - 2*x2 + 15\n",
    "hessian_f2 = Matrix([[f2.diff(x1, 2), f2.diff(x1, x2), f2.diff(x1, x3)],\n",
    "                     [f2.diff(x2, x1), f2.diff(x2, 2), f2.diff(x2, x3)],\n",
    "                     [f2.diff(x3, x1), f2.diff(x3, x2), f2.diff(x3, 2)]])\n",
    "is_convex_f2 = all(eigenvalue >= 0 for eigenvalue in hessian_f2.eigenvalues())\n",
    "\n",
    "is_convex_f1, is_convex_f2"
   ]
  },
  {
   "cell_type": "code",
   "execution_count": 13,
   "metadata": {},
   "outputs": [
    {
     "data": {
      "text/plain": [
       "{3: 1, 1: 1}"
      ]
     },
     "execution_count": 13,
     "metadata": {},
     "output_type": "execute_result"
    }
   ],
   "source": [
    "# 3\n",
    "from sympy import Matrix\n",
    "\n",
    "H = Matrix([[2, 1], [1, 2]])\n",
    "eigenvalues = H.eigenvals()\n",
    "\n",
    "eigenvalues"
   ]
  },
  {
   "cell_type": "code",
   "execution_count": 17,
   "metadata": {},
   "outputs": [
    {
     "data": {
      "text/latex": [
       "$\\displaystyle - \\frac{47}{20}$"
      ],
      "text/plain": [
       "-47/20"
      ]
     },
     "execution_count": 17,
     "metadata": {},
     "output_type": "execute_result"
    }
   ],
   "source": [
    "# 5\n",
    "from sympy import Symbol, exp, Rational\n",
    "\n",
    "x = Symbol('x')\n",
    "f = x * exp(-x**2)\n",
    "f_prime = f.diff(x)\n",
    "f_double_prime = f_prime.diff(x)\n",
    "\n",
    "x0 = -2\n",
    "f_prime_x0 = f_prime.subs(x, x0)\n",
    "f_double_prime_x0 = f_double_prime.subs(x, x0)\n",
    "\n",
    "x1 = x0 - f_prime_x0 / f_double_prime_x0\n",
    "\n",
    "x1 = Rational(x1).simplify()\n",
    "\n",
    "x1"
   ]
  },
  {
   "cell_type": "code",
   "execution_count": 23,
   "metadata": {},
   "outputs": [
    {
     "name": "stdout",
     "output_type": "stream",
     "text": [
      "None of these\n"
     ]
    }
   ],
   "source": [
    "# 6\n",
    "c = [1, 1]\n",
    "A = [[1, 2], [2, 1]]\n",
    "b = [3, 3]\n",
    "n = len(c)\n",
    "\n",
    "direction = 1\n",
    "\n",
    "c_dual = [-direction * b[i] for i in range(len(b))]\n",
    "A_dual = [[-direction * A[i][j] for i in range(len(A))] for j in range(len(A[0]))]\n",
    "b_dual = c\n",
    "\n",
    "dual_solution = [0] * n\n",
    "for i in range(n):\n",
    "    if A_dual[i].count(0) == n - 1 and b_dual[i] > 0:\n",
    "        dual_solution[i] = b_dual[i]\n",
    "\n",
    "if sum(dual_solution) == 0:\n",
    "    print(\"None of these\")\n",
    "else:\n",
    "    objective_value = sum([c_dual[i] * dual_solution[i] for i in range(n)])\n",
    "    objective_value\n"
   ]
  },
  {
   "cell_type": "code",
   "execution_count": null,
   "metadata": {},
   "outputs": [],
   "source": [
    "# 7\n",
    "import numpy as np\n",
    "import matplotlib.pyplot as plt\n",
    "\n",
    "x = np.linspace(0, 8, 100)\n",
    "y1 = (40 - 6 * x) / 3\n",
    "y2 = 3 * x\n",
    "y3 = 16 - 4 * x\n",
    "\n",
    "plt.plot(x, y1, label=\"6x + 3y <= 40\")\n",
    "plt.plot(x, y2, label=\"y >= 3x\")\n",
    "plt.plot(x, y3, label=\"4x + y <= 16\")\n",
    "plt.fill_between(x, np.maximum(np.maximum(y1, y2), y3), 0, where=(y2 >= 0) & (y3 >= 0), alpha=0.3)\n",
    "P = lambda x, y: 30 * x + 10 * y\n",
    "X, Y = np.meshgrid(np.linspace(0, 10, 100), np.linspace(0, 10, 100))\n",
    "Z = P(X, Y)\n",
    "plt.contour(X, Y, Z, levels=np.linspace(0, 300, 10), colors='red', alpha=0.5)\n",
    "plt.xlabel('Tables (x)')\n",
    "plt.ylabel('Chairs (y)')\n",
    "plt.legend()\n",
    "plt.xlim(0, 8)\n",
    "plt.ylim(0, 10)\n",
    "plt.grid(True)\n",
    "\n",
    "plt.show()"
   ]
  },
  {
   "cell_type": "code",
   "execution_count": null,
   "metadata": {},
   "outputs": [
    {
     "name": "stdout",
     "output_type": "stream",
     "text": [
      "Algorithm with derivatives:\n",
      "Local minimum: [-1.57079633  3.14159265]\n",
      "Algorithm without derivatives:\n",
      "Local minimum: [-1.54  3.11]\n",
      "Algorithm with derivatives:\n",
      "Local minimum: [2.11087609 3.39335103]\n"
     ]
    }
   ],
   "source": [
    "# 8\n",
    "import numpy as np\n",
    "import matplotlib.pyplot as plt\n",
    "\n",
    "def f(x):\n",
    "    return np.sin(x[0]) * np.exp((1 - np.cos(x[1]))**2) + np.cos(x[1]) * np.exp((1 - np.sin(x[0]))**2) + (x[0] - x[1])**2\n",
    "\n",
    "def f_grad(x):\n",
    "    df_dx0 = np.cos(x[0]) * np.exp((1 - np.sin(x[1]))**2) * (2 * (1 - np.sin(x[1])) * np.cos(x[0]) - (x[0] - x[1]))\n",
    "    df_dx1 = -np.sin(x[1]) * np.exp((1 - np.cos(x[1]))**2) * (2 * (1 - np.cos(x[1])) * np.sin(x[0]) - (x[0] - x[1]))\n",
    "    return np.array([df_dx0, df_dx1], dtype=float)\n",
    "\n",
    "# a\n",
    "x0 = np.array([-1.0, 2.0], dtype=float)\n",
    "alpha = 0.01\n",
    "max_iter = 1000\n",
    "\n",
    "for _ in range(max_iter):\n",
    "    gradient = f_grad(x0)\n",
    "    x0 -= alpha * gradient\n",
    "\n",
    "res_with_deriv = x0\n",
    "print(\"Algorithm with derivatives:\")\n",
    "print(\"Local minimum:\", res_with_deriv)\n",
    "x0 = np.array([-1.0, 2.0], dtype=float)\n",
    "delta = 0.01\n",
    "tolerance = 1e-6\n",
    "max_iter = 1000\n",
    "\n",
    "for _ in range(max_iter):\n",
    "    x = np.array([x0[0] - delta, x0[0], x0[0] + delta], dtype=float)\n",
    "    y = np.array([x0[1] - delta, x0[1], x0[1] + delta], dtype=float)\n",
    "    values = np.array([[f([xi, yi]) for yi in y] for xi in x])\n",
    "    idx = np.unravel_index(np.argmin(values, axis=None), values.shape)\n",
    "    x0 = np.array([x[idx[0]], y[idx[1]]], dtype=float)\n",
    "    if np.max(np.abs(values[idx])) < tolerance:\n",
    "        break\n",
    "\n",
    "res_without_deriv = x0\n",
    "print(\"Algorithm without derivatives:\")\n",
    "print(\"Local minimum:\", res_without_deriv)\n",
    "\n",
    "# b\n",
    "x0 = np.array([3.0, 4.0], dtype=float)\n",
    "\n",
    "for _ in range(max_iter):\n",
    "    gradient = f_grad(x0)\n",
    "    x0 -= alpha * gradient\n",
    "\n",
    "res_with_deriv = x0\n",
    "print(\"Algorithm with derivatives:\")\n",
    "print(\"Local minimum:\", res_with_deriv)\n",
    "x0 = np.array([3.0, 4.0], dtype=float)\n",
    "\n",
    "for _ in range(max_iter):\n",
    "    x = np.array([x0[0] - delta, x0[0], x0[0] + delta], dtype=float)\n",
    "    y = np.array([x0[1] - delta, x0[1], x0[1] + delta], dtype=float)\n",
    "    values = np.array([[f([xi, yi]) for yi in y] for xi in x])\n",
    "    idx = np.unravel_index(np.argmin(values, axis=None), values.shape)\n",
    "    x0 = np.array([x[idx[0]], y[idx[1]]], dtype=float)\n",
    "    if np.max(np.abs(values[idx])) < tolerance:\n",
    "        break\n",
    "\n",
    "res_without_deriv = x0\n",
    "print(\"Algorithm without derivatives:\")\n",
    "print(\"Local minimum:\", res_without_deriv)\n",
    "\n",
    "# c\n",
    "x = np.linspace(-5, 5, 100)\n",
    "y = np.linspace(-5, 5, 100)\n",
    "X, Y = np.meshgrid(x, y)\n",
    "Z = f([X, Y])\n",
    "\n",
    "plt.contour(X, Y, Z, 50, cmap='viridis')\n",
    "plt.xlabel('x')\n",
    "plt.ylabel('y')\n",
    "plt.title('Contour Plot of f(x, y)')\n",
    "plt.show()\n",
    "\n",
    "# d\n",
    "bounds = np.array([[-5, 0], [-5, 2]], dtype=float)\n",
    "x0 = np.array([-5.0, -3.0], dtype=float)\n",
    "x = np.linspace(bounds[0, 0], bounds[0, 1], 100)\n",
    "y = np.linspace(bounds[1, 0], bounds[1, 1], 100)\n",
    "X, Y = np.meshgrid(x, y)\n",
    "Z = f([X, Y])\n",
    "valid_points = np.logical_and((X + 5)**2 + (Y + 5)**2 < 25, X > Y)\n",
    "X_valid = X[valid_points]\n",
    "Y_valid = Y[valid_points]\n",
    "Z_valid = Z[valid_points]\n",
    "idx = np.unravel_index(np.argmin(Z_valid, axis=None), Z_valid.shape)\n",
    "res_constrained = np.array([X_valid[idx], Y_valid[idx]], dtype=float)\n",
    "print(\"Constrained local minimum:\", res_constrained)\n",
    "\n",
    "# e\n",
    "plt.contour(X, Y, Z, 50, cmap='viridis')\n",
    "plt.plot(X_valid, Y_valid, 'r.', alpha=0.3)\n",
    "plt.plot(res_constrained[0], res_constrained[1], 'ko', label='Minimum')\n",
    "plt.xlabel('x')\n",
    "plt.ylabel('y')\n",
    "plt.title('Contour Plot of f(x, y) with Constraint')\n",
    "plt.legend()\n",
    "plt.show()"
   ]
  },
  {
   "cell_type": "code",
   "execution_count": 1,
   "metadata": {},
   "outputs": [
    {
     "ename": "TypeError",
     "evalue": "x is not a valid variable.",
     "output_type": "error",
     "traceback": [
      "\u001b[0;31m---------------------------------------------------------------------------\u001b[0m",
      "\u001b[0;31mTypeError\u001b[0m                                 Traceback (most recent call last)",
      "\u001b[0;32m<ipython-input-1-52849e719fb2>\u001b[0m in \u001b[0;36m<module>\u001b[0;34m\u001b[0m\n\u001b[1;32m      7\u001b[0m \u001b[0mdf_dy\u001b[0m \u001b[0;34m=\u001b[0m \u001b[0mdiff\u001b[0m\u001b[0;34m(\u001b[0m\u001b[0mf\u001b[0m\u001b[0;34m,\u001b[0m \u001b[0my\u001b[0m\u001b[0;34m)\u001b[0m\u001b[0;34m\u001b[0m\u001b[0;34m\u001b[0m\u001b[0m\n\u001b[1;32m      8\u001b[0m \u001b[0;34m\u001b[0m\u001b[0m\n\u001b[0;32m----> 9\u001b[0;31m \u001b[0mstationary_points\u001b[0m \u001b[0;34m=\u001b[0m \u001b[0msolve\u001b[0m\u001b[0;34m(\u001b[0m\u001b[0;34m[\u001b[0m\u001b[0mdf_dx\u001b[0m\u001b[0;34m,\u001b[0m \u001b[0mdf_dy\u001b[0m\u001b[0;34m]\u001b[0m\u001b[0;34m,\u001b[0m \u001b[0mx\u001b[0m\u001b[0;34m,\u001b[0m \u001b[0my\u001b[0m\u001b[0;34m)\u001b[0m\u001b[0;34m\u001b[0m\u001b[0;34m\u001b[0m\u001b[0m\n\u001b[0m\u001b[1;32m     10\u001b[0m \u001b[0mstationary_points\u001b[0m\u001b[0;34m\u001b[0m\u001b[0;34m\u001b[0m\u001b[0m\n",
      "\u001b[0;32m/opt/sagemath-9.3/local/lib/python3.7/site-packages/sage/symbolic/relation.py\u001b[0m in \u001b[0;36msolve\u001b[0;34m(f, *args, **kwds)\u001b[0m\n\u001b[1;32m   1019\u001b[0m         \u001b[0;32mfor\u001b[0m \u001b[0mi\u001b[0m \u001b[0;32min\u001b[0m \u001b[0mx\u001b[0m\u001b[0;34m:\u001b[0m\u001b[0;34m\u001b[0m\u001b[0;34m\u001b[0m\u001b[0m\n\u001b[1;32m   1020\u001b[0m             \u001b[0;32mif\u001b[0m \u001b[0;32mnot\u001b[0m \u001b[0misinstance\u001b[0m\u001b[0;34m(\u001b[0m\u001b[0mi\u001b[0m\u001b[0;34m,\u001b[0m \u001b[0mExpression\u001b[0m\u001b[0;34m)\u001b[0m\u001b[0;34m:\u001b[0m\u001b[0;34m\u001b[0m\u001b[0;34m\u001b[0m\u001b[0m\n\u001b[0;32m-> 1021\u001b[0;31m                 \u001b[0;32mraise\u001b[0m \u001b[0mTypeError\u001b[0m\u001b[0;34m(\u001b[0m\u001b[0;34m\"%s is not a valid variable.\"\u001b[0m \u001b[0;34m%\u001b[0m \u001b[0mrepr\u001b[0m\u001b[0;34m(\u001b[0m\u001b[0mi\u001b[0m\u001b[0;34m)\u001b[0m\u001b[0;34m)\u001b[0m\u001b[0;34m\u001b[0m\u001b[0;34m\u001b[0m\u001b[0m\n\u001b[0m\u001b[1;32m   1022\u001b[0m     \u001b[0;32melif\u001b[0m \u001b[0mx\u001b[0m \u001b[0;32mis\u001b[0m \u001b[0;32mNone\u001b[0m\u001b[0;34m:\u001b[0m\u001b[0;34m\u001b[0m\u001b[0;34m\u001b[0m\u001b[0m\n\u001b[1;32m   1023\u001b[0m         \u001b[0mvars\u001b[0m \u001b[0;34m=\u001b[0m \u001b[0mf\u001b[0m\u001b[0;34m.\u001b[0m\u001b[0mvariables\u001b[0m\u001b[0;34m(\u001b[0m\u001b[0;34m)\u001b[0m\u001b[0;34m\u001b[0m\u001b[0;34m\u001b[0m\u001b[0m\n",
      "\u001b[0;31mTypeError\u001b[0m: x is not a valid variable."
     ]
    }
   ],
   "source": [
    "# 9\n",
    "import numpy as np\n",
    "import matplotlib.pyplot as plt\n",
    "from sympy import symbols, diff, solve, hessian\n",
    "\n",
    "x, y = symbols('x y')\n",
    "f = (x + y + 3*x*y) / (1 + x**2 + y**2)\n",
    "\n",
    "# a\n",
    "df_dx = diff(f, x)\n",
    "df_dy = diff(f, y)\n",
    "stationary_points = solve([df_dx, df_dy], x, y)\n",
    "\n",
    "# b\n",
    "hessian_matrix = hessian(f, (x, y))\n",
    "stationary_points_data = []\n",
    "for point in stationary_points:\n",
    "    hessian_subs = np.array([[float(hessian_matrix[i, j].subs([(x, point[0]), (y, point[1])])) for j in range(hessian_matrix.shape[1])] for i in range(hessian_matrix.shape[0])])\n",
    "    eigenvals = np.linalg.eigvals(hessian_subs)\n",
    "    point_type = 'Minimum' if np.all(eigenvals > 0) else 'Maximum' if np.all(eigenvals < 0) else 'Saddle'\n",
    "    value = float(f.subs([(x, point[0]), (y, point[1])]))\n",
    "    stationary_points_data.append((point, point_type, value))\n",
    "\n",
    "# c\n",
    "f_func = lambda x, y: (x + y + 3*x*y) / (1 + x**2 + y**2)\n",
    "x_vals = np.linspace(-10, 10, 100)\n",
    "y_vals = np.linspace(-10, 10, 100)\n",
    "X, Y = np.meshgrid(x_vals, y_vals)\n",
    "Z = f_func(X, Y)\n",
    "\n",
    "plt.contour(X, Y, Z, levels=20, cmap='viridis')\n",
    "plt.xlabel('x')\n",
    "plt.ylabel('y')\n",
    "plt.title('Contour Plot of f(x, y)')\n",
    "\n",
    "for point, point_type, value in stationary_points_data:\n",
    "    color = 'blue' if point_type != 'Saddle' else 'red'\n",
    "    plt.scatter(point[0], point[1], color=color, label=point_type)\n",
    "\n",
    "constraint = plt.Circle((0, 0), 1, color='black', fill=False)\n",
    "plt.gca().add_patch(constraint)\n",
    "\n",
    "plt.legend()\n",
    "plt.show()"
   ]
  },
  {
   "cell_type": "code",
   "execution_count": null,
   "metadata": {},
   "outputs": [],
   "source": []
  }
 ],
 "metadata": {
  "kernelspec": {
   "display_name": "SageMath 9.3",
   "language": "sage",
   "name": "sagemath"
  },
  "language_info": {
   "codemirror_mode": {
    "name": "ipython",
    "version": 3
   },
   "file_extension": ".py",
   "mimetype": "text/x-python",
   "name": "python",
   "nbconvert_exporter": "python",
   "pygments_lexer": "ipython3",
   "version": "3.7.10"
  }
 },
 "nbformat": 4,
 "nbformat_minor": 4
}
